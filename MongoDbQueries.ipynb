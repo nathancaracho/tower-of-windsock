{
 "cells": [
  {
   "cell_type": "markdown",
   "metadata": {},
   "source": [
    "# Different ways to make a query on mongoDB on ***C#***\r\n",
    "The idea is create the same query using different techniques and try understanding the benefits of each one. \r\n",
    ""
   ]
  },
  {
   "cell_type": "markdown",
   "metadata": {},
   "source": [
    "## Setup \r\n",
    "___\r\n",
    "***Reference***\r\n",
    "* [mongo driver doc](https://docs.mongodb.com/drivers/csharp) "
   ]
  },
  {
   "cell_type": "markdown",
   "metadata": {},
   "source": [
    "### Dependencies"
   ]
  },
  {
   "cell_type": "markdown",
   "metadata": {},
   "source": [
    "#### Mongo DB - DOCKER"
   ]
  },
  {
   "cell_type": "code",
   "execution_count": 1,
   "metadata": {},
   "source": [
    "#!pwsh\r\n",
    "docker run -d -p 27017-27017:27017-27017 --name mongo-test mongo "
   ],
   "outputs": []
  },
  {
   "cell_type": "markdown",
   "metadata": {},
   "source": [
    "#### Nuget packages"
   ]
  },
  {
   "cell_type": "code",
   "execution_count": 1,
   "metadata": {},
   "source": [
    "#r \"nuget:MongoDB.Driver\""
   ],
   "outputs": [
    {
     "output_type": "execute_result",
     "data": {
      "text/plain": "Installed package MongoDB.Driver version 2.11.2"
     },
     "execution_count": 1,
     "metadata": {}
    }
   ]
  },
  {
   "cell_type": "markdown",
   "metadata": {},
   "source": [
    "#### Client "
   ]
  },
  {
   "cell_type": "code",
   "execution_count": 1,
   "metadata": {},
   "source": [
    "\r\n",
    "using MongoDB.Driver;\r\n",
    "\r\n",
    "var client = new MongoClient(\"mongodb://localhost:27017\");\r\n",
    "var database = client.GetDatabase(\"firstDatabase\");"
   ],
   "outputs": []
  },
  {
   "cell_type": "markdown",
   "metadata": {},
   "source": [
    "### Creating Models"
   ]
  },
  {
   "cell_type": "code",
   "execution_count": 1,
   "metadata": {},
   "source": [
    "using MongoDB.Bson.Serialization.Attributes;\r\n",
    "\r\n",
    "[BsonIgnoreExtraElements]\r\n",
    "public class FirstCollection {\r\n",
    "    public string FirstProperty { get; set; }\r\n",
    "    public int SecondProperty { get; set; }\r\n",
    "}\r\n",
    "public class SecondCollection : FirstCollection {\r\n",
    "    public string Name { get; set; }\r\n",
    "}"
   ],
   "outputs": []
  },
  {
   "cell_type": "markdown",
   "metadata": {},
   "source": [
    "### Seeding"
   ]
  },
  {
   "cell_type": "code",
   "execution_count": 1,
   "metadata": {},
   "source": [
    "\r\n",
    "var firstCollection = database.GetCollection<FirstCollection>(\"firstCollection\");\r\n",
    "\r\n",
    "var firstCollections = new List<FirstCollection>{\r\n",
    "    new FirstCollection {FirstProperty = \"First\", SecondProperty = 1 },\r\n",
    "    new FirstCollection {FirstProperty = \"Second\", SecondProperty = 2 },\r\n",
    "    new FirstCollection {FirstProperty = \"Third\", SecondProperty = 3 },\r\n",
    "    new FirstCollection {FirstProperty = \"Fourth\", SecondProperty = 4 }\r\n",
    "};\r\n",
    "\r\n",
    "firstCollection.InsertMany(firstCollections);"
   ],
   "outputs": []
  },
  {
   "cell_type": "markdown",
   "metadata": {},
   "source": [
    "### Utils methods"
   ]
  },
  {
   "cell_type": "code",
   "execution_count": 1,
   "metadata": {},
   "source": [
    "\r\n",
    "    public void PrintResult<TResult>(List<TResult> results, Func<TResult,string> output){\r\n",
    "        Console.WriteLine($\"Result Count: {results.Count()}\");\r\n",
    "        results.ForEach(res => Console.WriteLine(output(res)));\r\n",
    "    }\r\n",
    ""
   ],
   "outputs": []
  },
  {
   "cell_type": "markdown",
   "metadata": {},
   "source": [
    "## Queries:\r\n",
    "\r\n",
    "1. Simple query: The collections will filtered by property ***'FirstProperty'*** not equals ***'First'*** and the property ***'SecondProperty'*** in 1,2 and 4.\r\n",
    "2. Aggragate query: Aggragate the  ***FirstCollection*** with ***SecondCollection*** by ***'FirstProperty'*** and filter ***FirstCollection*** by property ***'FirstProperty'*** not equals ***'First'***, selecting only ***SecondCollection's*** Name property."
   ]
  },
  {
   "cell_type": "markdown",
   "metadata": {},
   "source": [
    "### Using ***Filters*** Builder \r\n",
    "***Reference:***\r\n",
    "* [Mongo DB Blog](https://www.mongodb.com/blog/post/quick-start-c-and-mongodb--read-operations)"
   ]
  },
  {
   "cell_type": "code",
   "execution_count": 1,
   "metadata": {},
   "source": [
    "var numbers = new List<int>{1,4,2};\r\n",
    "\r\n",
    "var collectionInFilter = Builders<FirstCollection>.Filter.In(collect => collect.SecondProperty,numbers);\r\n",
    "var collectionEqFilter = Builders<FirstCollection>.Filter.Eq(collect => collect.FirstProperty,\"First\");\r\n",
    "var collectionNotInFilter = Builders<FirstCollection>.Filter.Not(collectionEqFilter);\r\n",
    "var collectionAndFilter = Builders<FirstCollection>.Filter.And(collectionInFilter,collectionNotInFilter);\r\n",
    "\r\n",
    "var findFilterResult = firstCollection.FindSync(collectionAndFilter).ToList();\r\n",
    "\r\n",
    "PrintResult(findFilterResult, result => $\"FirstProperty: {result.FirstProperty}, SecondProperty: {result.SecondProperty}\");"
   ],
   "outputs": []
  },
  {
   "cell_type": "markdown",
   "metadata": {},
   "source": [
    "### Using fluent ***Mongo driver*** Linq \r\n",
    "___\r\n",
    "***Reference***\r\n",
    "* [Mongo driver Doc LINQ](http://mongodb.github.io/mongo-csharp-driver/2.7/reference/driver/crud/linq/)"
   ]
  },
  {
   "cell_type": "markdown",
   "metadata": {},
   "source": [
    "### Simple Query \r\n",
    "Use a simple filter with ***Linq*** as ***DSL*** not a good choice, because loses the great deal of this technique, the ***readability***."
   ]
  },
  {
   "cell_type": "code",
   "execution_count": 1,
   "metadata": {},
   "source": [
    "var numbers = new List<int>{1,4,2};\r\n",
    "\r\n",
    "var fluentResult = firstCollection.AsQueryable()\r\n",
    "    .Where(collect => \r\n",
    "        !collect.FirstProperty.Equals(\"First\")\r\n",
    "        && numbers.Contains(collect.SecondProperty))\r\n",
    "    .ToList();\r\n",
    "\r\n",
    "PrintResult(fluentResult, result => $\"FirstProperty: {result.FirstProperty}, SecondProperty: {result.SecondProperty}\");\r\n",
    ""
   ],
   "outputs": []
  },
  {
   "cell_type": "markdown",
   "metadata": {},
   "source": [
    "### Using DSL ***Mongo driver*** Linq \r\n",
    "***Reference***\r\n",
    "* [Mongo driver Doc LINQ](http://mongodb.github.io/mongo-csharp-driver/2.7/reference/driver/crud/linq/)"
   ]
  },
  {
   "cell_type": "code",
   "execution_count": 1,
   "metadata": {},
   "source": [
    "var numbers = new List<int>{1,4,2};\r\n",
    "\r\n",
    "var collectionQuerable = firstCollection.AsQueryable();\r\n",
    "\r\n",
    "var dlsResult = from collect in collectionQuerable\r\n",
    "                where !collect.FirstProperty.Equals(\"First\")\r\n",
    "                     && numbers.Contains(collect.SecondProperty)\r\n",
    "                select collect;\r\n",
    "\r\n",
    "PrintResult(dlsResult.ToList(), result => $\"FirstProperty: {result.FirstProperty}, SecondProperty: {result.SecondProperty}\");"
   ],
   "outputs": []
  }
 ],
 "metadata": {
  "kernelspec": {
   "display_name": ".NET (C#)",
   "language": "C#",
   "name": ".net-csharp"
  },
  "language_info": {
   "file_extension": ".cs",
   "mimetype": "text/x-csharp",
   "name": "C#",
   "pygments_lexer": "csharp",
   "version": "8.0"
  }
 },
 "nbformat": 4,
 "nbformat_minor": 4
}