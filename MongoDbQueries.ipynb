{
 "cells": [
  {
   "cell_type": "markdown",
   "metadata": {},
   "source": [
    "# Different ways to make a query on mongoDB with ***C#***\r\n",
    "The idea is create the same query using different techniques and try understanding the benefits of each one. \r\n",
    ""
   ]
  },
  {
   "cell_type": "markdown",
   "metadata": {},
   "source": [
    "## Setup \r\n",
    "___\r\n",
    "***Reference***\r\n",
    "* [mongo driver doc](https://docs.mongodb.com/drivers/csharp) "
   ]
  },
  {
   "cell_type": "markdown",
   "metadata": {},
   "source": [
    "### Dependencies"
   ]
  },
  {
   "cell_type": "markdown",
   "metadata": {},
   "source": [
    "#### Mongo DB - DOCKER"
   ]
  },
  {
   "cell_type": "code",
   "execution_count": 1,
   "metadata": {},
   "source": [
    "#!pwsh\r\n",
    "docker run -d -p 27017-27017:27017-27017 mongo "
   ],
   "outputs": []
  },
  {
   "cell_type": "markdown",
   "metadata": {},
   "source": [
    "#### Nuget packages"
   ]
  },
  {
   "cell_type": "code",
   "execution_count": 1,
   "metadata": {},
   "source": [
    "#r \"nuget:MongoDB.Driver\""
   ],
   "outputs": []
  },
  {
   "cell_type": "markdown",
   "metadata": {},
   "source": [
    "#### Client "
   ]
  },
  {
   "cell_type": "code",
   "execution_count": 1,
   "metadata": {},
   "source": [
    "\r\n",
    "using MongoDB.Driver;\r\n",
    "\r\n",
    "var client = new MongoClient(\"mongodb://localhost:27017\");\r\n",
    "var database = client.GetDatabase(\"firstDatabase\");"
   ],
   "outputs": []
  },
  {
   "cell_type": "markdown",
   "metadata": {},
   "source": [
    "### Creating Models"
   ]
  },
  {
   "cell_type": "code",
   "execution_count": 1,
   "metadata": {},
   "source": [
    "using MongoDB.Bson.Serialization.Attributes;\r\n",
    "\r\n",
    "[BsonIgnoreExtraElements]\r\n",
    "public class Collection{\r\n",
    "    public string FirstProperty { get; set; }\r\n",
    "    public int SecondProperty { get; set; }\r\n",
    "\r\n",
    "}\r\n",
    "[BsonIgnoreExtraElements]\r\n",
    "public class FirstCollection : Collection{\r\n",
    "    public IEnumerable<SecondCollection> SecondCollections { get; set; }\r\n",
    "}\r\n",
    "\r\n",
    "[BsonIgnoreExtraElements]\r\n",
    "public class SecondCollection : Collection {\r\n",
    "    public string Name { get; set; }\r\n",
    "}"
   ],
   "outputs": []
  },
  {
   "cell_type": "markdown",
   "metadata": {},
   "source": [
    "### Instanciate Collections"
   ]
  },
  {
   "cell_type": "code",
   "execution_count": 1,
   "metadata": {},
   "source": [
    "var firstCollection = database.GetCollection<FirstCollection>(\"firstCollection\");\r\n",
    "var secondCollection = database.GetCollection<SecondCollection>(\"secondCollection\");\r\n",
    ""
   ],
   "outputs": []
  },
  {
   "cell_type": "markdown",
   "metadata": {},
   "source": [
    "### Seeding"
   ]
  },
  {
   "cell_type": "markdown",
   "metadata": {},
   "source": [
    "#### first Collection"
   ]
  },
  {
   "cell_type": "code",
   "execution_count": 1,
   "metadata": {},
   "source": [
    "\r\n",
    "var firstCollections = new List<FirstCollection>{\r\n",
    "    new FirstCollection {FirstProperty = \"First\", SecondProperty = 1 },\r\n",
    "    new FirstCollection {FirstProperty = \"Second\", SecondProperty = 2 },\r\n",
    "    new FirstCollection {FirstProperty = \"Third\", SecondProperty = 3 },\r\n",
    "    new FirstCollection {FirstProperty = \"Fourth\", SecondProperty = 4 }\r\n",
    "};\r\n",
    "\r\n",
    "firstCollection.InsertMany(firstCollections);"
   ],
   "outputs": []
  },
  {
   "cell_type": "markdown",
   "metadata": {},
   "source": [
    "#### second Collection"
   ]
  },
  {
   "cell_type": "code",
   "execution_count": 1,
   "metadata": {},
   "source": [
    "\r\n",
    "var secondCollections = new List<SecondCollection>{\r\n",
    "    new SecondCollection {FirstProperty = \"First\", SecondProperty = 1, Name = \"I\" },\r\n",
    "    new SecondCollection {FirstProperty = \"Second\", SecondProperty = 2 , Name = \"II\"},\r\n",
    "    new SecondCollection {FirstProperty = \"Third\", SecondProperty = 3 , Name = \"III\"},\r\n",
    "    new SecondCollection {FirstProperty = \"Fourth\", SecondProperty = 4 , Name = \"IV\"}\r\n",
    "};\r\n",
    "\r\n",
    "secondCollection.InsertMany(secondCollections);"
   ],
   "outputs": []
  },
  {
   "cell_type": "markdown",
   "metadata": {},
   "source": [
    "### Utils methods"
   ]
  },
  {
   "cell_type": "code",
   "execution_count": 1,
   "metadata": {},
   "source": [
    "\r\n",
    "    public void PrintResult<TResult>(IEnumerable<TResult> results, Func<TResult,string> output){\r\n",
    "        Console.WriteLine($\"Result Count: {results.Count()}\");\r\n",
    "        results.ToList().ForEach(res => Console.WriteLine(output(res)));\r\n",
    "    }\r\n",
    "\r\n",
    "    public void PrintResult(IEnumerable<FirstCollection> results) => PrintResult(results, result => $\"FirstProperty: {result.FirstProperty}, SecondProperty: {result.SecondProperty}\");\r\n",
    "    public void PrintResult(IEnumerable<string> results) => PrintResult(results, result => $\"Name: {result}\");\r\n",
    ""
   ],
   "outputs": []
  },
  {
   "cell_type": "markdown",
   "metadata": {},
   "source": [
    "## Queries:\r\n",
    "\r\n",
    "1. Simple query: Filter ***FirstCollection*** by property ***'FirstProperty'*** not equals ***'First'*** and the property ***'SecondProperty'*** in 1,2 and 4.\r\n",
    "2. Aggragate query: Aggragate the  ***FirstCollection*** with ***SecondCollection*** by ***'FirstProperty'*** and filter ***FirstCollection*** by property ***'FirstProperty'*** not equals ***'First'***, selecting only ***SecondCollection's*** Name property."
   ]
  },
  {
   "cell_type": "markdown",
   "metadata": {},
   "source": [
    "### Using ***Filters*** Builder \r\n",
    "***Reference:***\r\n",
    "* [Mongo DB Blog](https://www.mongodb.com/blog/post/quick-start-c-and-mongodb--read-operations)"
   ]
  },
  {
   "cell_type": "markdown",
   "metadata": {},
   "source": [
    "#### Simple Query \r\n",
    ""
   ]
  },
  {
   "cell_type": "code",
   "execution_count": 1,
   "metadata": {},
   "source": [
    "var numbers = new List<int>{1,4,2};\r\n",
    "\r\n",
    "var collectionInFilter = Builders<FirstCollection>.Filter.In(collect => collect.SecondProperty,numbers);\r\n",
    "var collectionEqFilter = Builders<FirstCollection>.Filter.Eq(collect => collect.FirstProperty,\"First\");\r\n",
    "var collectionNotInFilter = Builders<FirstCollection>.Filter.Not(collectionEqFilter);\r\n",
    "var collectionAndFilter = Builders<FirstCollection>.Filter.And(collectionInFilter,collectionNotInFilter);\r\n",
    "\r\n",
    "var findFilterResult = firstCollection.FindSync(collectionAndFilter).ToList();\r\n",
    "\r\n",
    "PrintResult(findFilterResult);"
   ],
   "outputs": []
  },
  {
   "cell_type": "markdown",
   "metadata": {},
   "source": [
    "#### Aggregate Query "
   ]
  },
  {
   "cell_type": "code",
   "execution_count": 1,
   "metadata": {},
   "source": [
    "var numbers = new List<int>{1,4,2};\r\n",
    "\r\n",
    "var collectionEqFilter = Builders<FirstCollection>.Filter.Eq(collect => collect.FirstProperty,\"First\");\r\n",
    "var collectionNotInFilter = Builders<FirstCollection>.Filter.Not(collectionEqFilter);\r\n",
    "\r\n",
    "\r\n",
    "var findFilterResult = firstCollection.Aggregate()\r\n",
    "    .Match(collectionNotInFilter)\r\n",
    "    .Lookup(\r\n",
    "        foreignCollection: secondCollection,\r\n",
    "        first => first.SecondProperty,\r\n",
    "        second => second.SecondProperty,\r\n",
    "        @as : (FirstCollection first) => first.SecondCollections)\r\n",
    "    .Project(x => new {Names = x.SecondCollections.Select(second => second.Name)})\r\n",
    "    .ToList()\r\n",
    "    .SelectMany(project => project.Names);\r\n",
    "\r\n",
    "PrintResult(findFilterResult);"
   ],
   "outputs": []
  },
  {
   "cell_type": "markdown",
   "metadata": {},
   "source": [
    "### Using fluent/method based ***Mongo driver*** LINQ "
   ]
  },
  {
   "cell_type": "markdown",
   "metadata": {},
   "source": [
    "#### Explanning "
   ]
  },
  {
   "cell_type": "markdown",
   "metadata": {},
   "source": [
    "***Reference***\r\n",
    "* [Mongo driver Doc LINQ](http://mongodb.github.io/mongo-csharp-driver/2.7/reference/driver/crud/linq/)"
   ]
  },
  {
   "cell_type": "markdown",
   "metadata": {},
   "source": [
    "#### Simple Query \r\n",
    ""
   ]
  },
  {
   "cell_type": "code",
   "execution_count": 1,
   "metadata": {},
   "source": [
    "var numbers = new List<int>{1,4,2};\r\n",
    "\r\n",
    "var fluentResult = firstCollection.AsQueryable()\r\n",
    "    .Where(collect => \r\n",
    "        !collect.FirstProperty.Equals(\"First\")\r\n",
    "        && numbers.Contains(collect.SecondProperty))\r\n",
    "    .ToList();\r\n",
    "\r\n",
    "PrintResult(fluentResult);\r\n",
    ""
   ],
   "outputs": []
  },
  {
   "cell_type": "markdown",
   "metadata": {},
   "source": [
    "#### Aggregate Query "
   ]
  },
  {
   "cell_type": "code",
   "execution_count": 1,
   "metadata": {},
   "source": [
    "var numbers = new List<int>{1,4,2};\r\n",
    "\r\n",
    "var fluentResult = firstCollection.AsQueryable()\r\n",
    "    .Where(collect => !collect.FirstProperty.Equals(\"First\"))\r\n",
    "    .Join(secondCollection.AsQueryable(),\r\n",
    "        first => first.SecondProperty,\r\n",
    "        second => second.SecondProperty,\r\n",
    "        (_,second) => second)\r\n",
    "    .Select(second => second.Name)\r\n",
    "    .ToList();\r\n",
    "\r\n",
    "PrintResult(fluentResult);\r\n",
    ""
   ],
   "outputs": []
  },
  {
   "cell_type": "markdown",
   "metadata": {},
   "source": [
    "### Using (DSL/Query based) ***Mongo driver*** Linq \r\n",
    ""
   ]
  },
  {
   "cell_type": "markdown",
   "metadata": {},
   "source": [
    "#### Explanning "
   ]
  },
  {
   "cell_type": "markdown",
   "metadata": {},
   "source": [
    "Expressive, With a familiar syntax and noiseless than **C#**, **DSL** LINQ or Query based sintaxe LINQ use SQL syntax like to create a better code readability.  \r\n",
    "The query construction and syntax have little differences between LINQ and SQL, to create an alias for example is used the statement `from` following the alias name and the statement `in` is used as collection's pointer, not the statement `from` as SQL language. Another good example is the order of query expression construction, in SQL the properties selection come first than filter, but in LINQ first is created an alias, obligatory to access an object in collection, after the filter is created and finally the object selection.  \r\n",
    "\r\n",
    "Simple Query example:\r\n",
    "* **SQL:**\r\n",
    "~~~sql\r\n",
    "    SELECT * \r\n",
    "        FROM COLLECTION AS COLL \r\n",
    "        WHERE COLL.PROPERTY = 1\r\n",
    "~~~\r\n",
    "* **LINQ:**\r\n",
    "~~~c#\r\n",
    "    var result = from coll in collection\r\n",
    "                where coll.Property == 1\r\n",
    "                select coll\r\n",
    "~~~\r\n",
    "\r\n",
    "\r\n",
    "\r\n",
    "**Contextualizing:**\r\n",
    "* **DSL**: **D**omain **S**pecific **L**anguage is a higher level language optimized to solve specific problems, can used as standalone language or integrated in another programing languages.  \r\n",
    "* **Declarative Programming**: A programming paradigm or programming style, describe the problem solution without implementations details like **SQL** language.\r\n",
    "\r\n",
    "**References:**\r\n",
    "* [Declarative programming](https://getpocket.com/redirect?url=https%3A%2F%2Fen.wikipedia.org%2Fwiki%2FDeclarative_programming)\r\n",
    "* [Domain-Specific Languages](https://www.jetbrains.com/mps/concepts/domain-specific-languages/)\r\n",
    "* [Mongo driver Doc LINQ](http://mongodb.github.io/mongo-csharp-driver/2.7/reference/driver/crud/linq/) \r\n",
    "* [LINQ as DSL](https://app.getpocket.com/read/652237004)\r\n",
    "* [Query Syntax and Method Syntax in LINQ](https://docs.microsoft.com/en-us/dotnet/csharp/programming-guide/concepts/linq/query-syntax-and-method-syntax-in-linq)\r\n",
    "___"
   ]
  },
  {
   "cell_type": "markdown",
   "metadata": {},
   "source": [
    "#### Simple Query "
   ]
  },
  {
   "cell_type": "code",
   "execution_count": 1,
   "metadata": {},
   "source": [
    "var numbers = new List<int>{1,4,2};\r\n",
    "\r\n",
    "var dlsResult = from collect in firstCollection.AsQueryable()\r\n",
    "                where collect.FirstProperty != \"First\"\r\n",
    "                     && numbers.Contains(collect.SecondProperty)\r\n",
    "                select collect;\r\n",
    "\r\n",
    "PrintResult(dlsResult.ToList());"
   ],
   "outputs": []
  },
  {
   "cell_type": "markdown",
   "metadata": {},
   "source": [
    "\r\n",
    "Here the expression is more verbosity than **Fluent LINQ** because the alias obligatory and code's readability was impaired by C# boolean operators `&&` and `!`, removing that little issues is easy to undestand the expression.  \r\n",
    "That make me think, is good a choice use **DSL LINQ** to simple queries or is better use **Fluent LINQ**? 🤔."
   ]
  },
  {
   "cell_type": "markdown",
   "metadata": {},
   "source": [
    "#### Aggregate Query "
   ]
  },
  {
   "cell_type": "code",
   "execution_count": 1,
   "metadata": {},
   "source": [
    "var numbers = new List<int>{1,4,2};\r\n",
    "\r\n",
    "var dlsResult = from second in secondCollection.AsQueryable()\r\n",
    "                join first in firstCollection.AsQueryable()\r\n",
    "                    on second.SecondProperty equals first.SecondProperty\r\n",
    "                where first.FirstProperty != \"First\"\r\n",
    "                orderby first.SecondProperty\r\n",
    "                select second.Name;\r\n",
    "\r\n",
    "PrintResult(dlsResult.ToList());"
   ],
   "outputs": []
  },
  {
   "cell_type": "markdown",
   "metadata": {},
   "source": [
    "The big deal of **DSL LINQ**, an aggregation query.  \r\n",
    "Using a **SQL** like code style give a better readability principally because the use of `join` as aggregate statement followed of `on` statement to relate properties. Different than **Fluent LINQ**, a **DSL LINQ** expression the relation statement and filter statement are made together at end make it better organized, in other words the expression can made at once.  \r\n",
    "\r\n",
    "Look below the same query made with **SQL**:  \r\n",
    "~~~sql\r\n",
    "    SELECT SECOND.NAME \r\n",
    "    FROM FIRSTCOLLECTION AS FIRST\r\n",
    "    INNER JOIN SECONDCOLLECTION AS SECOND\r\n",
    "        ON FIRST.SECONDPROPERTY = SECOND.SECONDPROPERTY\r\n",
    "    WHERE FIRST.FIRSTPROPERTY <> 'First'\r\n",
    "    ORDER BY FIRST.SECONDPROPERTY\r\n",
    "~~~\r\n",
    "\r\n",
    ""
   ]
  }
 ],
 "metadata": {
  "kernelspec": {
   "display_name": ".NET (C#)",
   "language": "C#",
   "name": ".net-csharp"
  },
  "language_info": {
   "file_extension": ".cs",
   "mimetype": "text/x-csharp",
   "name": "C#",
   "pygments_lexer": "csharp",
   "version": "8.0"
  }
 },
 "nbformat": 4,
 "nbformat_minor": 4
}