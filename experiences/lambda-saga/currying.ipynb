{
 "cells": [
  {
   "cell_type": "markdown",
   "metadata": {},
   "source": [
    "# Currying"
   ]
  },
  {
   "cell_type": "markdown",
   "metadata": {},
   "source": [
    "## The history"
   ]
  },
  {
   "cell_type": "markdown",
   "metadata": {},
   "source": [
    "## What is it?\n",
    "Basically, currying is a technique to transform a multiple arguments function in a chain of single arguments functions.  \n",
    "`l = f(a,b,c)` **to** `l = f(a)(b)(c)`  \n",
    "**OR**  \n",
    "`fn: (a * b) -> c` **to** `fn: a -> b -> c`"
   ]
  },
  {
   "cell_type": "markdown",
   "metadata": {},
   "source": [
    "## Examples  \n",
    "We will use a sum function to examplify **currying** technique, so the function will receive two int type, `first` and `second`, as arguments and return a int type value, `first` + `second`. "
   ]
  },
  {
   "cell_type": "markdown",
   "metadata": {},
   "source": [
    "#### Regular sum function\n",
    "**sum**: `( int * int ) -> int`"
   ]
  },
  {
   "cell_type": "code",
   "execution_count": null,
   "metadata": {},
   "outputs": [],
   "source": [
    "let sum (first , second) = first + second\n",
    "\n",
    "sum (1,2)\n",
    "|> printf \"regular function result: %d\""
   ]
  },
  {
   "cell_type": "markdown",
   "metadata": {},
   "source": [
    "That is a regular function with a tuple as argurment and it only can applied with boths values. "
   ]
  },
  {
   "cell_type": "markdown",
   "metadata": {},
   "source": [
    "#### Curried sum function\n",
    "**sum**: `int -> int -> int`"
   ]
  },
  {
   "cell_type": "code",
   "execution_count": null,
   "metadata": {},
   "outputs": [],
   "source": [
    "let sum =\n",
    "    fun first -> //main function\n",
    "        fun second -> first + second //sub function\n",
    "\n",
    "let addOne = sum 1 // int -> int\n",
    "\n",
    "addOne 2\n",
    "|> printf \"curried sum result: %d\""
   ]
  },
  {
   "cell_type": "markdown",
   "metadata": {},
   "source": [
    "**What we did?**\n",
    "___\n",
    "We created two functions, the main function has one int type argument called `first` and return another function, that sub-function has one int type argument called `second` and in your body has the arguments sum.  \n",
    "\n",
    "**How this works?**\n",
    "___\n",
    "The main function receive a value as argument and \"**hold it**\" in your inner context, this main function's return another function and this sub function has an argument too, but now in your body the function make use of the main function argument to sum two arguments, that is only possible because the sub function is inside main function context, that way it can have access all variables in this context.  \n",
    "So when we create a function **addOne** and add a value **1** to **sum** function returns a sub function with **1** value in your context.So when we create a function **addOne** and add a value **1** to **sum** function returns a sub function with **1** value in your context.\n",
    "\n",
    "Using currying with **FSharp** is simple because all multi arguments functions is curried by default,so not is necessary create it manually. Look it below:"
   ]
  },
  {
   "cell_type": "code",
   "execution_count": null,
   "metadata": {},
   "outputs": [],
   "source": [
    "let sum first second = first + second\n",
    "\n",
    "let addOne = sum 1 // int -> int\n",
    "\n",
    "addOne 2\n",
    "|> printf \"implicit curried sum result: %d\""
   ]
  },
  {
   "cell_type": "markdown",
   "metadata": {},
   "source": [
    "The result is the same and can be simplified. Look it:"
   ]
  },
  {
   "cell_type": "code",
   "execution_count": null,
   "metadata": {},
   "outputs": [],
   "source": [
    "let addOne = (+) 1 // int -> int\n",
    "\n",
    "addOne 2\n",
    "|> printf \"simplify curried sum result: %d\""
   ]
  },
  {
   "cell_type": "markdown",
   "metadata": {},
   "source": [
    "That is only possible because in F# all multi arguments functions is by default curried and the **sum operation** is a two arguments function, an [infix operator](https://en.wikipedia.org/wiki/Infix_notation), so is curried by default too."
   ]
  },
  {
   "cell_type": "markdown",
   "metadata": {},
   "source": [
    "## Why use"
   ]
  },
  {
   "cell_type": "markdown",
   "metadata": {},
   "source": [
    "## When Use"
   ]
  }
 ],
 "metadata": {
  "kernelspec": {
   "display_name": ".NET (F#)",
   "language": "F#",
   "name": ".net-fsharp"
  },
  "language_info": {
   "file_extension": ".fs",
   "mimetype": "text/x-fsharp",
   "name": "C#",
   "pygments_lexer": "fsharp",
   "version": "4.5"
  }
 },
 "nbformat": 4,
 "nbformat_minor": 4
}
