{
 "cells": [
  {
   "cell_type": "markdown",
   "metadata": {},
   "source": [
    "# Currying\r\n",
    ""
   ]
  },
  {
   "cell_type": "markdown",
   "metadata": {},
   "source": [
    "## The history\r\n",
    ""
   ]
  },
  {
   "cell_type": "markdown",
   "metadata": {},
   "source": [
    "## What is it?\r\n",
    "Basically, currying is a technique to transform a multiple arguments function in a chain of single arguments functions. **fn:** `a -> (b -> c)`"
   ]
  },
  {
   "cell_type": "markdown",
   "metadata": {},
   "source": [
    "## Examples  \r\n",
    "We will use a sum function to examplify **currying** technic, so the function will receive two int type, `first` and `second`, as arguments and return a int type value, `first` + `second`. "
   ]
  },
  {
   "cell_type": "markdown",
   "metadata": {},
   "source": [
    "\r\n",
    "**sum**: `int -> int -> int`"
   ]
  },
  {
   "cell_type": "code",
   "execution_count": 1,
   "metadata": {},
   "source": [
    "#!fsharp\r\n",
    "let sum first =\r\n",
    "    fun second -> first + second\r\n",
    "\r\n",
    "let addOne = sum 1 // int -> int\r\n",
    "\r\n",
    "addOne 2\r\n",
    "|> printf \"curried sum result: %d\""
   ],
   "outputs": []
  },
  {
   "cell_type": "markdown",
   "metadata": {},
   "source": [
    "### Explain it:\r\n",
    "**What we did?**  \r\n",
    "We created two functions, the main function has one int type argument called `first` and return another function, that sub-function has one int type argument called `second` and in your body has the arguments sum.  \r\n",
    "**How this works?**  \r\n",
    "The main function receive a value as argument and \"**hold it**\" in your inner context, this main function return another function and this sub function has an argument too, but now in your body the function make use of the main function argument to sum two arguments, that is only possible because the sub function is inside main function context, that way it can have access all variables in this context.  \r\n",
    "So when we create a function **addOne** we insert a value inside **sum**, the main function, context and it return a new function already with value in context.  "
   ]
  },
  {
   "cell_type": "markdown",
   "metadata": {},
   "source": [
    "## Why use"
   ]
  },
  {
   "cell_type": "markdown",
   "metadata": {},
   "source": [
    "## When Use"
   ]
  }
 ],
 "metadata": {
  "kernelspec": {
   "display_name": ".NET (C#)",
   "language": "C#",
   "name": ".net-csharp"
  },
  "language_info": {
   "file_extension": ".cs",
   "mimetype": "text/x-csharp",
   "name": "C#",
   "pygments_lexer": "csharp",
   "version": "8.0"
  }
 },
 "nbformat": 4,
 "nbformat_minor": 4
}