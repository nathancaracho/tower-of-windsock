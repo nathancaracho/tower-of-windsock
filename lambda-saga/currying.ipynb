{
 "cells": [
  {
   "cell_type": "markdown",
   "metadata": {},
   "source": [
    "# Currying\r\n",
    ""
   ]
  },
  {
   "cell_type": "markdown",
   "metadata": {},
   "source": [
    "## The history\r\n",
    ""
   ]
  },
  {
   "cell_type": "markdown",
   "metadata": {},
   "source": [
    "## What is it?\r\n",
    "Basically, currying is a technique to transform a multiple arguments function in a chain of single arguments functions.  \r\n",
    "`l = f(a,b,c)` **to** `l = f(a)(b)(c)`  \r\n",
    "**OR**  \r\n",
    "`fn: (a * b) -> c` **to** `fn: a -> b -> c`"
   ]
  },
  {
   "cell_type": "markdown",
   "metadata": {},
   "source": [
    "## Examples  \r\n",
    "We will use a sum function to examplify **currying** technique, so the function will receive two int type, `first` and `second`, as arguments and return a int type value, `first` + `second`. "
   ]
  },
  {
   "cell_type": "markdown",
   "metadata": {},
   "source": [
    "#### Regular sum function\r\n",
    "**sum**: `( int * int ) -> int`"
   ]
  },
  {
   "cell_type": "code",
   "execution_count": null,
   "metadata": {},
   "source": [
    "#!fsharp\r\n",
    "let sum (first , second) = first + second;\r\n",
    "\r\n",
    "sum (1,2)\r\n",
    "|> printf \"regular function result: %d\""
   ],
   "outputs": []
  },
  {
   "cell_type": "markdown",
   "metadata": {},
   "source": [
    "That is a regular function with a tuple as argurment and it only can applied with boths values. "
   ]
  },
  {
   "cell_type": "markdown",
   "metadata": {},
   "source": [
    "#### Curried sum function\r\n",
    "**sum**: `int -> int -> int`"
   ]
  },
  {
   "cell_type": "code",
   "execution_count": null,
   "metadata": {},
   "source": [
    "#!fsharp\r\n",
    "let sum =\r\n",
    "    fun first -> //main function\r\n",
    "        fun second -> first + second //sub function\r\n",
    "\r\n",
    "let addOne = sum 1 // int -> int\r\n",
    "\r\n",
    "addOne 2\r\n",
    "|> printf \"curried sum result: %d\""
   ],
   "outputs": []
  },
  {
   "cell_type": "markdown",
   "metadata": {},
   "source": [
    "**What we did?**  \r\n",
    "We created two functions, the main function has one int type argument called `first` and return another function, that sub-function has one int type argument called `second` and in your body has the arguments sum.  \r\n",
    "**How this works?**  \r\n",
    "The main function receive a value as argument and \"**hold it**\" in your inner context, this main function's return another function and this sub function has an argument too, but now in your body the function make use of the main function argument to sum two arguments, that is only possible because the sub function is inside main function context, that way it can have access all variables in this context.  \r\n",
    "So when we create a function **addOne** and add a value `1` to **sum** function a new function is created with a `1` value in your context.  \r\n",
    "Using currying with **FSharp** is simple because all multi arguments functions is curried by default,so not is necessary create it manually. Look it below:\r\n",
    ""
   ]
  },
  {
   "cell_type": "code",
   "execution_count": null,
   "metadata": {},
   "source": [
    "#!fsharp\r\n",
    "let sum first second = first + second\r\n",
    "\r\n",
    "let addOne = sum 1 // int -> int\r\n",
    "\r\n",
    "addOne 2\r\n",
    "|> printf \"implicit curried sum result: %d\""
   ],
   "outputs": []
  },
  {
   "cell_type": "markdown",
   "metadata": {},
   "source": [
    "The result is the same and can be simplified. Look it:"
   ]
  },
  {
   "cell_type": "code",
   "execution_count": null,
   "metadata": {},
   "source": [
    "#!fsharp\r\n",
    "let addOne = (+) 1 // int -> int\r\n",
    "\r\n",
    "addOne 2\r\n",
    "|> printf \"simplify curried sum result: %d\""
   ],
   "outputs": []
  },
  {
   "cell_type": "markdown",
   "metadata": {},
   "source": [
    "That is only possible because:  \r\n",
    "1. All multi arguments functions is default curried\r\n",
    "2. The sum operations is a two arguments function, in this case an infix operator."
   ]
  },
  {
   "cell_type": "markdown",
   "metadata": {},
   "source": [
    "## Why use"
   ]
  },
  {
   "cell_type": "markdown",
   "metadata": {},
   "source": [
    "## When Use"
   ]
  }
 ],
 "metadata": {
  "kernelspec": {
   "display_name": ".NET (C#)",
   "language": "C#",
   "name": ".net-csharp"
  },
  "language_info": {
   "file_extension": ".cs",
   "mimetype": "text/x-csharp",
   "name": "C#",
   "pygments_lexer": "csharp",
   "version": "8.0"
  }
 },
 "nbformat": 4,
 "nbformat_minor": 4
}