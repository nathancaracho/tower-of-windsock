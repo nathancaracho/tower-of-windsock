{
 "cells": [
  {
   "cell_type": "markdown",
   "metadata": {},
   "source": [
    "# Different ways to make a query on mongoDB with ***C#***\n",
    "The idea is create the same query using different techniques and try understanding the benefits of each one.\n"
   ]
  },
  {
   "cell_type": "markdown",
   "metadata": {},
   "source": [
    "## Setup \n",
    "___\n",
    "***Reference***\n",
    "* [mongo driver doc](https://docs.mongodb.com/drivers/csharp) "
   ]
  },
  {
   "cell_type": "markdown",
   "metadata": {},
   "source": [
    "### Dependencies"
   ]
  },
  {
   "cell_type": "markdown",
   "metadata": {},
   "source": [
    "#### Mongo DB - DOCKER"
   ]
  },
  {
   "cell_type": "code",
   "execution_count": null,
   "metadata": {},
   "outputs": [],
   "source": [
    "#!pwsh\n",
    "docker run -d -p 27017-27017:27017-27017 mongo "
   ]
  },
  {
   "cell_type": "markdown",
   "metadata": {},
   "source": [
    "#### Nuget packages"
   ]
  },
  {
   "cell_type": "code",
   "execution_count": null,
   "metadata": {},
   "outputs": [],
   "source": [
    "#r \"nuget:MongoDB.Driver\""
   ]
  },
  {
   "cell_type": "markdown",
   "metadata": {},
   "source": [
    "#### Client "
   ]
  },
  {
   "cell_type": "code",
   "execution_count": null,
   "metadata": {},
   "outputs": [],
   "source": [
    "\n",
    "using MongoDB.Driver;\n",
    "\n",
    "var client = new MongoClient(\"mongodb://localhost:27017\");\n",
    "var database = client.GetDatabase(\"firstDatabase\");"
   ]
  },
  {
   "cell_type": "markdown",
   "metadata": {},
   "source": [
    "### Creating Models"
   ]
  },
  {
   "cell_type": "code",
   "execution_count": null,
   "metadata": {},
   "outputs": [],
   "source": [
    "using MongoDB.Bson.Serialization.Attributes;\n",
    "\n",
    "[BsonIgnoreExtraElements]\n",
    "public class Collection{\n",
    "    public string FirstProperty { get; set; }\n",
    "    public int SecondProperty { get; set; }\n",
    "\n",
    "}\n",
    "[BsonIgnoreExtraElements]\n",
    "public class FirstCollection : Collection{\n",
    "    public IEnumerable<SecondCollection> SecondCollections { get; set; }\n",
    "}\n",
    "\n",
    "[BsonIgnoreExtraElements]\n",
    "public class SecondCollection : Collection {\n",
    "    public string Name { get; set; }\n",
    "}"
   ]
  },
  {
   "cell_type": "markdown",
   "metadata": {},
   "source": [
    "### Instanciate Collections"
   ]
  },
  {
   "cell_type": "code",
   "execution_count": null,
   "metadata": {},
   "outputs": [],
   "source": [
    "var firstCollection = database.GetCollection<FirstCollection>(\"firstCollection\");\n",
    "var secondCollection = database.GetCollection<SecondCollection>(\"secondCollection\");\n"
   ]
  },
  {
   "cell_type": "markdown",
   "metadata": {},
   "source": [
    "### Seeding"
   ]
  },
  {
   "cell_type": "markdown",
   "metadata": {},
   "source": [
    "#### first Collection"
   ]
  },
  {
   "cell_type": "code",
   "execution_count": null,
   "metadata": {},
   "outputs": [],
   "source": [
    "\n",
    "var firstCollections = new List<FirstCollection>{\n",
    "    new FirstCollection {FirstProperty = \"First\", SecondProperty = 1 },\n",
    "    new FirstCollection {FirstProperty = \"Second\", SecondProperty = 2 },\n",
    "    new FirstCollection {FirstProperty = \"Third\", SecondProperty = 3 },\n",
    "    new FirstCollection {FirstProperty = \"Fourth\", SecondProperty = 4 }\n",
    "};\n",
    "\n",
    "firstCollection.InsertMany(firstCollections);"
   ]
  },
  {
   "cell_type": "markdown",
   "metadata": {},
   "source": [
    "#### second Collection"
   ]
  },
  {
   "cell_type": "code",
   "execution_count": null,
   "metadata": {},
   "outputs": [],
   "source": [
    "\n",
    "var secondCollections = new List<SecondCollection>{\n",
    "    new SecondCollection {FirstProperty = \"First\", SecondProperty = 1, Name = \"I\" },\n",
    "    new SecondCollection {FirstProperty = \"Second\", SecondProperty = 2 , Name = \"II\"},\n",
    "    new SecondCollection {FirstProperty = \"Third\", SecondProperty = 3 , Name = \"III\"},\n",
    "    new SecondCollection {FirstProperty = \"Fourth\", SecondProperty = 4 , Name = \"IV\"}\n",
    "};\n",
    "\n",
    "secondCollection.InsertMany(secondCollections);"
   ]
  },
  {
   "cell_type": "markdown",
   "metadata": {},
   "source": [
    "### Until methods"
   ]
  },
  {
   "cell_type": "code",
   "execution_count": null,
   "metadata": {},
   "outputs": [],
   "source": [
    " public void PrintResult<TResult>(IEnumerable<TResult> results, Func<TResult,string> output){\n",
    "        Console.WriteLine($\"Result Count: {results.Count()}\");\n",
    "        results.ToList().ForEach(res => Console.WriteLine(output(res)));\n",
    "   \n",
    "    public void PrintResult(IEnumerable<FirstCollection> results) => PrintResult(results, result => $\"FirstProperty: {result.FirstProperty}, SecondProperty: {result.SecondPropert    ;\n",
    "    public void PrintResult(IEnumerable<string> results) => PrintResult(results, result => $\"Name: {result}\");\n"
   ]
  },
  {
   "cell_type": "markdown",
   "metadata": {},
   "source": [
    "## The queries\n",
    "We'll use two queries as base, first one Simple query with just a composed filter and the last one is Aggregation query with a simple filter and an aggregation with two collections. That queries will used for exemplify complexity and readability each expression construction.  \n",
    "\n",
    "explain each query: \n",
    "1. The **Simple query**: Filter ***FirstCollection*** by property `FirstProperty` not equals ***'First'*** and the property `SecondProperty` in 1,2 an\n",
    "\n",
    "~~~csharp\n",
    "    db.firstCollection.find({\n",
    "       FirstProperty: {\n",
    "            $ne: \"First\"\n",
    "        },\n",
    "        SecondProperty:{\n",
    "            $in:[1,2,4]\n",
    "        }\n",
    "\n",
    "    })\n",
    "~~~\n",
    "2. The **Aggregate query**: Aggregate the  ***FirstCollection*** with ***SecondCollection*** by `FirstProperty` and filter ***FirstCollection*** by property `FirstProperty` not equals ***'First'***, selecting only ***SecondColle\n",
    "\n",
    "~~~csharp\n",
    "    db.firstCollection.aggregate([\n",
    "        {\n",
    "            $match: {\n",
    "                FirstProperty: {\n",
    "                    $ne: \"First\"\n",
    "                }\n",
    "   \n",
    "                   }, {\n",
    "            $lookup: {\n",
    "                from: 'secondCollection',\n",
    "                localField: 'SecondProperty',\n",
    "                foreignField: 'SecondProperty',\n",
    "                as: 'seconds'\n",
    "\n",
    "        }\n",
    "        }\n",
    "    ])\n",
    "~~~"
   ]
  },
  {
   "cell_type": "markdown",
   "metadata": {},
   "source": [
    "### Using ***Filters*** Builder \n",
    "***Reference:***\n",
    "* [Mongo DB Blog](https://www.mongodb.com/blog/post/quick-start-c-and-mongodb--read-operations)"
   ]
  },
  {
   "cell_type": "markdown",
   "metadata": {},
   "source": [
    "#### The Simple Query \n"
   ]
  },
  {
   "cell_type": "code",
   "execution_count": null,
   "metadata": {},
   "outputs": [],
   "source": [
    "var numbers = new List<int>{1,4,2};\n",
    "\n",
    "var collectionInFilter = Builders<FirstCollection>.Filter.In(collect => collect.SecondProperty,numbers);\n",
    "var collectionEqFilter = Builders<FirstCollection>.Filter.Eq(collect => collect.FirstProperty,\"First\");\n",
    "var collectionNotInFilter = Builders<FirstCollection>.Filter.Not(collectionEqFilter);\n",
    "var collectionAndFilter = Builders<FirstCollection>.Filter.And(collectionInFilter,collectionNotInFilter);\n",
    "\n",
    "var findFilterResult = firstCollection.FindSync(collectionAndFilter).ToList();\n",
    "\n",
    "PrintResult(findFilterResult);"
   ]
  },
  {
   "cell_type": "markdown",
   "metadata": {},
   "source": [
    "#### The Aggregate Query "
   ]
  },
  {
   "cell_type": "code",
   "execution_count": null,
   "metadata": {},
   "outputs": [],
   "source": [
    "var numbers = new List<int>{1,4,2};\n",
    "\n",
    "var collectionEqFilter = Builders<FirstCollection>.Filter.Eq(collect => collect.FirstProperty,\"First\");\n",
    "var collectionNotInFilter = Builders<FirstCollection>.Filter.Not(collectionEqFilter);\n",
    "\n",
    "\n",
    "var findFilterResult = firstCollection.Aggregate()\n",
    "    .Match(collectionNotInFilter)\n",
    "    .Lookup(\n",
    "        foreignCollection: secondCollection,\n",
    "        first => first.SecondProperty,\n",
    "        second => second.SecondProperty,\n",
    "        @as : (FirstCollection first) => first.SecondCollections)\n",
    "    .Project(x => new {Names = x.SecondCollections.Select(second => second.Name)})\n",
    "    .ToList()\n",
    "    .SelectMany(project => project.Names);\n",
    "\n",
    "PrintResult(findFilterResult);"
   ]
  },
  {
   "cell_type": "markdown",
   "metadata": {},
   "source": [
    "### Using Method based LINQ "
   ]
  },
  {
   "cell_type": "markdown",
   "metadata": {},
   "source": [
    "#### Explanning "
   ]
  },
  {
   "cell_type": "markdown",
   "metadata": {},
   "source": [
    "Using a **Fluent interface**, **Method based LINQ** has closest expression **MongoDB** regular queries than **Query based LINQ** principally by use of Lambda expressions (**Higher order functions**) to filter's logic.The combination between Lambda expressions and Fluent interface result is code verbosity and code noise but easy to understanding for C# developers.\n",
    "MongoDB offers others methods to query, so is possible to using Lambda expressions to simple queries without use LINQ. Look below an example of likeness between **Method based LINQ**, **MongoDB** regular queries and **MongoBD Driver** methods:  \n",
    "* **MongoDB:**\n",
    "~~~javascript\n",
    "    db.collection.find({\n",
    "        propertyA:1,\n",
    "        propertyB:{$ne:\"VALUE\"}\n",
    "    })\n",
    "~~~\n",
    "* **LINQ:**\n",
    "~~~csharp\n",
    "    collection.AsQueryable()\n",
    "        .Where(collection => \n",
    "            collection.PropertyA == 1 \n",
    "            && collection.PropertyB != \"VALUE\"\n",
    "            )\n",
    "        .ToList();\n",
    "~~~\n",
    "* **MongoDB Driver:**\n",
    "~~~csharp\n",
    "    collection\n",
    "        .FindSync(collection => \n",
    "            collection.PropertyA == 1 \n",
    "            && collection.PropertyB != \"VALUE\"\n",
    "            )\n",
    "        .ToList();\n",
    "~~~  \n",
    "\n",
    "**Contextualizing:**\n",
    "* **Fluent interface**: Is a chain of methods that return a same Type.\n",
    "* **Higher order function**: Basically is a use of a Function as parameter of another function.\n",
    "\n",
    "***Reference***\n",
    "* [Mongo driver Doc LINQ](http://mongodb.github.io/mongo-csharp-driver/2.7/reference/driver/crud/linq/)\n",
    "* [Fluent interface](https://en.wikipedia.org/wiki/Fluent_interface#:~:text=In%20software%20engineering%2C%20a%20fluent,Eric%20Evans%20and%20Martin%20Fowler.)\n",
    "* [Higher order function](https://en.wikipedia.org/wiki/Higher-order_function)"
   ]
  },
  {
   "cell_type": "markdown",
   "metadata": {},
   "source": [
    "#### The Simple Query \n"
   ]
  },
  {
   "cell_type": "code",
   "execution_count": null,
   "metadata": {},
   "outputs": [],
   "source": [
    "var numbers = new List<int>{1,4,2};\n",
    "\n",
    "var fluentResult = firstCollection.AsQueryable()\n",
    "    .Where(collect => \n",
    "        !collect.FirstProperty.Equals(\"First\")\n",
    "        && numbers.Contains(collect.SecondProperty))\n",
    "    .ToList();\n",
    "\n",
    "PrintResult(fluentResult);\n"
   ]
  },
  {
   "cell_type": "markdown",
   "metadata": {},
   "source": [
    "When has a simple query all power and expressive of **Method based LINQ** is shown with few lines. But MongoDB driver already have a method to simple queries `FindSync` and `FindAsync`, so **Method based LINQ** is necessary in this situation? 🤔"
   ]
  },
  {
   "cell_type": "markdown",
   "metadata": {},
   "source": [
    "#### The Aggregate Query "
   ]
  },
  {
   "cell_type": "code",
   "execution_count": null,
   "metadata": {},
   "outputs": [],
   "source": [
    "var numbers = new List<int>{1,4,2};\n",
    "\n",
    "var fluentResult = firstCollection.AsQueryable()\n",
    "    .Where(collect => !collect.FirstProperty.Equals(\"First\"))\n",
    "    .Join(secondCollection.AsQueryable(),\n",
    "        first => first.SecondProperty,\n",
    "        second => second.SecondProperty,\n",
    "        (_,second) => second)\n",
    "    .Select(second => second.Name)\n",
    "    .ToList();\n",
    "\n",
    "PrintResult(fluentResult);\n"
   ]
  },
  {
   "cell_type": "markdown",
   "metadata": {},
   "source": [
    "### Using (Query based) ***Mongo driver*** LINQ \n"
   ]
  },
  {
   "cell_type": "markdown",
   "metadata": {},
   "source": [
    "#### Explaining "
   ]
  },
  {
   "cell_type": "markdown",
   "metadata": {},
   "source": [
    "Expressive, With a familiar syntax and noiseless than **C#**, Query based syntax LINQ use SQL syntax like to create a better code readability.  \n",
    "The query construction and syntax have little differences between LINQ and SQL, to create an alias for example is used the statement `from` following the alias name and the statement `in` is used as collection's pointer, not the statement `from` as SQL language. Another good example is the order of query expression construction, in SQL the properties selection come first than filter, but in LINQ first is created an alias, obligatory to access an object in collection, after the filter is created and finally the object selection.  \n",
    "\n",
    "Simple Query example:\n",
    "* **SQL:**\n",
    "~~~sql\n",
    "    SELECT * \n",
    "        FROM COLLECTION AS COLL \n",
    "        WHERE COLL.PROPERTY = 1\n",
    "~~~\n",
    "* **LINQ:**\n",
    "~~~csharp\n",
    "    var result = from coll in collection\n",
    "                where coll.Property == 1\n",
    "                select coll\n",
    "~~~\n",
    "\n",
    "**Contextualizing:**\n",
    "* **DSL**: **D**omain **S**pecific **L**anguage is a higher level language optimized to solve specific problems, can used as standalone language or integrated in another programming languages.  \n",
    "* **Declarative Programming**: A programming paradigm or programming style, describe the problem solution without implementations details like **SQL** language.\n",
    "\n",
    "**References:**\n",
    "* [Declarative programming](https://getpocket.com/redirect?url=https%3A%2F%2Fen.wikipedia.org%2Fwiki%2FDeclarative_programming)\n",
    "* [Domain-Specific Languages](https://www.jetbrains.com/mps/concepts/domain-specific-languages/)\n",
    "* [Mongo driver Doc LINQ](http://mongodb.github.io/mongo-csharp-driver/2.7/reference/driver/crud/linq/) \n",
    "* [LINQ as DSL](https://app.getpocket.com/read/652237004)\n",
    "* [Query Syntax and Method Syntax in LINQ](https://docs.microsoft.com/en-us/dotnet/csharp/programming-guide/concepts/linq/query-syntax-and-method-syntax-in-linq)\n",
    "___"
   ]
  },
  {
   "cell_type": "markdown",
   "metadata": {},
   "source": [
    "#### The Simple Query "
   ]
  },
  {
   "cell_type": "code",
   "execution_count": null,
   "metadata": {},
   "outputs": [],
   "source": [
    "var numbers = new List<int>{1,4,2};\n",
    "\n",
    "var dlsResult = from collect in firstCollection.AsQueryable()\n",
    "                where collect.FirstProperty != \"First\"\n",
    "                     && numbers.Contains(collect.SecondProperty)\n",
    "                select collect;\n",
    "\n",
    "PrintResult(dlsResult.ToList());"
   ]
  },
  {
   "cell_type": "markdown",
   "metadata": {},
   "source": [
    "\n",
    "Here the expression is more verbosity than **Method based LINQ** because the alias obligatory and code's readability was impaired by C# boolean operators `&&` and `!`, removing that little issues is easy to understand the expression.  \n",
    "That make me think, is good a choice use **Query based LINQ** to simple queries or is better use **Method based LINQ** or **MongoDB Driver** methods? 🤔"
   ]
  },
  {
   "cell_type": "markdown",
   "metadata": {},
   "source": [
    "#### The Aggregate Query "
   ]
  },
  {
   "cell_type": "code",
   "execution_count": null,
   "metadata": {},
   "outputs": [],
   "source": [
    "var numbers = new List<int>{1,4,2};\n",
    "\n",
    "var dlsResult = from second in secondCollection.AsQueryable()\n",
    "                join first in firstCollection.AsQueryable()\n",
    "                    on second.SecondProperty equals first.SecondProperty\n",
    "                where first.FirstProperty != \"First\"\n",
    "                orderby first.SecondProperty\n",
    "                select second.Name;\n",
    "\n",
    "PrintResult(dlsResult.ToList());"
   ]
  },
  {
   "cell_type": "markdown",
   "metadata": {},
   "source": [
    "The big deal of **Query based LINQ**, an aggregation query.  \n",
    "Using a **SQL** like code style give a better readability principally because the use of `join` as aggregate statement followed of `on` statement to relate properties. Different than **Method based LINQ**, a **Query based LINQ** expression the relation statement and filter statement are made together at end make it better organized, in other words the expression can made at once.  \n",
    "\n",
    "Look below the same query with **SQL**:  \n",
    "~~~sql\n",
    "    SELECT SECOND.NAME \n",
    "    FROM FIRSTCOLLECTION AS FIRST\n",
    "    INNER JOIN SECONDCOLLECTION AS SECOND\n",
    "        ON FIRST.SECONDPROPERTY = SECOND.SECONDPROPERTY\n",
    "    WHERE FIRST.FIRSTPROPERTY <> 'First'\n",
    "    ORDER BY FIRST.SECONDPROPERTY\n",
    "~~~  "
   ]
  }
 ],
 "metadata": {
  "kernelspec": {
   "display_name": ".NET (C#)",
   "language": "C#",
   "name": ".net-csharp"
  },
  "language_info": {
   "file_extension": ".cs",
   "mimetype": "text/x-csharp",
   "name": "C#",
   "pygments_lexer": "csharp",
   "version": "8.0"
  }
 },
 "nbformat": 4,
 "nbformat_minor": 4
}
