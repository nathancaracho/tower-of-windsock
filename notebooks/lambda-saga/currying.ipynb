{
 "cells": [
  {
   "cell_type": "markdown",
   "metadata": {},
   "source": [
    "# Lambda Saga - Currying\n"
   ]
  },
  {
   "cell_type": "markdown",
   "metadata": {},
   "source": [
    "## Sumary :\n",
    "* [What is Currying](#What-is-Currying) \n",
    "* [Exemples](#Exemples)\n",
    "    * [What we did](#What-we-did)\n",
    "    * [How this works](#How-this-works)\n",
    "    * [Currying on F#](#Currying-on-F#)\n",
    "* [The use of currying](#The-use-of-currying)\n",
    "    * [Explaining the expression](#Explaining-the-expression)\n",
    "* [Conclusion](#Conclusion)\n",
    "* [References](#References)"
   ]
  },
  {
   "cell_type": "markdown",
   "metadata": {},
   "source": [
    "## What is Currying\n",
    "Basically, currying is a technique to transform a multiple arguments or [n-tuple][n-tuple] argument function in a chain of single arguments functions.  \n",
    "$f:(x * y) \\to z$ **to** $(f): x \\to (y \\to z)$   \n",
    "\n",
    "[n-tuple]:https://en.wikipedia.org/wiki/Tuple\n"
   ]
  },
  {
   "cell_type": "markdown",
   "metadata": {},
   "source": [
    "## Examples  \n",
    "We will use a sum function to examplify **currying** technique, so the function will receive two int type, `first` and `second`, as arguments and return a int type value, `first` + `second`. "
   ]
  },
  {
   "cell_type": "markdown",
   "metadata": {},
   "source": [
    "#### Regular sum function\n",
    "$sum: (int * int) \\to int$ "
   ]
  },
  {
   "cell_type": "code",
   "execution_count": null,
   "metadata": {},
   "outputs": [],
   "source": [
    "let sum (first , second) = first + second\n",
    "\n",
    "sum (1,2)\n",
    "|> printf \"regular function result: %d\""
   ]
  },
  {
   "cell_type": "markdown",
   "metadata": {},
   "source": [
    "That is a regular function with a tuple as argument and it only can applied with both values. "
   ]
  },
  {
   "cell_type": "markdown",
   "metadata": {},
   "source": [
    "#### Curried sum function\n",
    "$sum: int \\to int \\to int$ or $sum: int \\to (int \\to int)$"
   ]
  },
  {
   "cell_type": "code",
   "execution_count": null,
   "metadata": {},
   "outputs": [],
   "source": [
    "let sum =\n",
    "    fun first -> //main function\n",
    "        fun second -> first + second //sub function\n",
    "\n",
    "let addOne = sum 1 // int -> int\n",
    "\n",
    "addOne 2\n",
    "|> printf \"curried sum result: %d\""
   ]
  },
  {
   "cell_type": "markdown",
   "metadata": {},
   "source": [
    "### What we did\n",
    "___\n",
    "to sum operation we created two functions, the main function, $ int \\to (int \\to int) $, has one int type argument called **first** and return  sub-function, that function, $ int \\to int $, has one int type argument called **second** and in your body has the arguments sum.  \n",
    "\n",
    "### How this works\n",
    "___\n",
    "The main function receive a value as argument and \"**hold it**\" in your inner scope, this main function return a sub-function and this sub-function has an argument too, but now in your body that sub-function uses main function argument to execute the operations. That is only possible because the sub-function is inside main function scope, that way it can access all variables in main function inner scope.  \n",
    "So when we create a function **addOne** and apply a value **1** to **sum** function, that operation returns a sub-function with **1** value applied. It is look like:\n",
    "```f#\n",
    "let addOne =\n",
    "    let first = 1\n",
    "    fun second -> second + 1\n",
    "```\n",
    "\n",
    "### Currying on FSharp\n",
    "___\n",
    "Use currying with **FSharp** is easy because all multi arguments functions is curried by default, so not is necessary create it manually. Look it below:"
   ]
  },
  {
   "cell_type": "code",
   "execution_count": null,
   "metadata": {},
   "outputs": [],
   "source": [
    "let sum first second = first + second\n",
    "\n",
    "let addOne = sum 1 // int -> int\n",
    "\n",
    "addOne 2\n",
    "|> printf \"implicit curried sum result: %d\""
   ]
  },
  {
   "cell_type": "markdown",
   "metadata": {},
   "source": [
    "The result is the same than first function and we can simplify this further. Look it:"
   ]
  },
  {
   "cell_type": "code",
   "execution_count": null,
   "metadata": {},
   "outputs": [],
   "source": [
    "let addOne = (+) 1 // int -> int\n",
    "\n",
    "addOne 2\n",
    "|> printf \"simplify curried sum result: %d\""
   ]
  },
  {
   "cell_type": "markdown",
   "metadata": {},
   "source": [
    "The sum operator is a [infix notation][infix] and a multi argument too so is by default curried.  \n",
    "$(+): int \\to int \\to int$ \n",
    "\n",
    "[infix]:https://en.wikipedia.org/wiki/Infix_notation"
   ]
  },
  {
   "cell_type": "markdown",
   "metadata": {},
   "source": [
    "## The use of currying  \n",
    "\n",
    "With currying we are able to partial apply a function, in others words we fix the first of N arguments of a function and reuse the resulted function. That techique possibility us to share a behavior without create a new function and with lightweight sintax. A good exemples of curried function is `Seq.reduce` and `|>`, look it below:\n",
    "\n"
   ]
  },
  {
   "cell_type": "code",
   "execution_count": null,
   "metadata": {},
   "outputs": [],
   "source": [
    "[1;2;3;4]\n",
    "|> Seq.reduce (+)\n",
    "|> printf \"sum of all list itens: %d\"\n",
    "    "
   ]
  },
  {
   "cell_type": "markdown",
   "metadata": {},
   "source": [
    "### Explaining the expression\n",
    "First we need undestanding what is the operator `|>` or [forward pipe operator][pipe operator]. Basically the [forward pipe operator][pipe operator] is a [infix notation][infix] where the operator apply left value to rigth function.  \n",
    "$ f: a \\to (a \\to b) \\to b $\n",
    "\n",
    "```f#\n",
    "let (|>) a b = b a\n",
    "```\n",
    "Now let see the `Seq.reduce` have two arguments, first $ (int \\to int \\to int) $ and last $ seq<int> $. If you are a good observer see this signature $ int \\to int \\to int $ is the same signutare than `(+)` operator, so we partial apply `(+)` operator to `Seq.reduce` and after apply `[1;2;3;4]` to `Seq.reduce (+)`.  \n",
    "\n",
    "The same expression can be write with a different way look it below:\n",
    "\n",
    "[pipe operator]:https://docs.microsoft.com/pt-br/dotnet/fsharp/language-reference/symbol-and-operator-reference/\n",
    "[infix]:https://en.wikipedia.org/wiki/Infix_notation"
   ]
  },
  {
   "cell_type": "code",
   "execution_count": null,
   "metadata": {},
   "outputs": [],
   "source": [
    "let sumAll = Seq.reduce (+) // seq<int> -> int\n",
    "\n",
    "sumAll [1;2;3;4]\n",
    "|> printf \"sum of all of integer list : %d\""
   ]
  },
  {
   "cell_type": "markdown",
   "metadata": {},
   "source": [
    "This is the same of last expression but  creating a new function $ sumAll: seq<int> \\to int $ partially applying `(+)` to `Seq.reduce`. That way we can share the behavior of sum all itens of a list with a lightweight sintax using currying."
   ]
  },
  {
   "cell_type": "markdown",
   "metadata": {},
   "source": [
    "## Conclusion\n",
    "The currying is a great technique to share behavior, basically transform a [n-tuple][n-tuple] argument function to a chain of functions with one argument and that is easiest with F# because all mult arguments function is curried by default.\n",
    "\n",
    "[n-tuple]:https://en.wikipedia.org/wiki/Tuple"
   ]
  },
  {
   "cell_type": "markdown",
   "metadata": {},
   "source": [
    "### References\n",
    "* [Currying wikipedia](https://pt.wikipedia.org/wiki/Currying)\n",
    "* [Partial application vs. Curriyng](http://www.codefugue.com/partial-application-vs-currying/)\n",
    "* [Funtional Programming: Currying vs. Partial application](https://medium.com/better-programming/functional-programming-currying-vs-partial-application-53b8b05c73e3#:~:text=Currying%3A%20A%20function%20returning%20another,function%20can%20take%20several%20parameters.)\n",
    "* [Curried functions](https://docs.microsoft.com/dotnet/fsharp/introduction-to-functional-programming/first-class-functions#curried-functions)\n",
    "* [Partial application](https://fsharpforfunandprofit.com/posts/partial-application/)\n",
    "* [Currying](https://fsharpforfunandprofit.com/posts/currying/)\n",
    "* [What are the practical advantages of currying?](https://stackoverflow.com/questions/5301181/what-are-the-practical-advantages-of-currying)\n",
    "* [Currying Haskell doc.](https://wiki.haskell.org/Currying)\n",
    "* [A real world Currying example](https://lukajcb.github.io/blog/scala/2016/03/08/a-real-world-currying-example.html#:~:text=It%20allows%20us%20to%20easily,like%20map%20%2C%20filter%20or%20reduce%20.)\n",
    "* [Partial application wikipedia](https://en.wikipedia.org/wiki/Partial_application)"
   ]
  }
 ],
 "metadata": {
  "kernelspec": {
   "display_name": ".NET (F#)",
   "language": "F#",
   "name": ".net-fsharp"
  },
  "language_info": {
   "file_extension": ".fs",
   "mimetype": "text/x-fsharp",
   "name": "C#",
   "pygments_lexer": "fsharp",
   "version": "4.5"
  }
 },
 "nbformat": 4,
 "nbformat_minor": 4
}
