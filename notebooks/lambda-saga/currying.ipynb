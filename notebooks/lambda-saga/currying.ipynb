{
 "cells": [
  {
   "cell_type": "markdown",
   "metadata": {},
   "source": [
    "# Lambda Saga - Currying\n"
   ]
  },
  {
   "cell_type": "markdown",
   "metadata": {},
   "source": [
    "## Sumary :\n",
    "* [What is Currying](#What-is-Currying) \n",
    "* [Function signature](#Function-signature)\n",
    "* [Exemples](#Exemples)\n",
    "    * [What we did](#What-we-did)\n",
    "    * [How this works](#How-this-works)\n",
    "    * [Currying on F#](#Currying-on-F#)\n",
    "* [The use of currying](#The-use-of-currying)\n",
    "    * [Explaining the expression](#Explaining-the-expression)\n",
    "* [Conclusion](#Conclusion)\n",
    "* [References](#References)"
   ]
  },
  {
   "cell_type": "markdown",
   "metadata": {},
   "source": [
    "## What is Currying\n",
    "Basically, currying is a technique to transform a multiple arguments or [n-tuple][n-tuple] argument function in a chain of single arguments functions.  \n",
    "$f:(x * y) \\to z$ **to** $(f): x \\to (y \\to z)$   \n",
    "\n",
    "[n-tuple]:https://en.wikipedia.org/wiki/Tuple\n"
   ]
  },
  {
   "cell_type": "markdown",
   "metadata": {},
   "source": [
    "## Function signature\n",
    "\n",
    "Let understanding what is $ \\to $, $ (x * y) $, **Domain** and **Range**. The tuple or $ (x * y) $ is a product of two types or a coposing between two types, arrow function or $ \\to $ is used to indicate a map of a set into another set, in other words indicate the argument and return, **Domain** is the argument of a function and **Range** is a result of a function.  \n",
    "Look below the example:  \n",
    "\n",
    "$ f: x \\to y $  \n",
    "\n",
    "The function above has $ x $ as **Domain** and $ y $ as **Range** and that is read as **from** $ x $ **to** $ y $, so the function $ f $ has $ x $ as agument and $ y $ as result. Now look another example with a tuple as **Domain**:\n",
    "\n",
    "$ f: (x*y) \\to z $  \n",
    "\n",
    "| **Symbol/Name** | **Means**|\n",
    "|------|------|\n",
    "|  $\\to$ | returns|\n",
    "| Domain| argument type|\n",
    "| Range | result type|\n",
    "| $(x * y)$| Tuple|  \n",
    "\n",
    "Look the same examples with F#:  \n",
    "\n",
    "$ multiply: int \\to int $ "
   ]
  },
  {
   "cell_type": "code",
   "execution_count": null,
   "metadata": {},
   "outputs": [],
   "source": [
    "let multiply a b = a * b\n",
    "multiply 5 3"
   ]
  },
  {
   "cell_type": "markdown",
   "metadata": {},
   "source": [
    "$ multiply: (int * int) \\to int $ "
   ]
  },
  {
   "cell_type": "code",
   "execution_count": null,
   "metadata": {},
   "outputs": [],
   "source": [
    "let multiply (a,b) = a * b\n",
    "multiply 5 3"
   ]
  },
  {
   "cell_type": "markdown",
   "metadata": {},
   "source": [
    "## Examples  \n",
    "We will use a sum function to examplify **currying** technique, so the function will receive two int type, `first` and `second`, as arguments and return a int type value, `first` + `second`. "
   ]
  },
  {
   "cell_type": "markdown",
   "metadata": {},
   "source": [
    "#### Regular sum function\n",
    "$sum: (int * int) \\to int$ "
   ]
  },
  {
   "cell_type": "code",
   "execution_count": null,
   "metadata": {},
   "outputs": [],
   "source": [
    "let sum (first , second) = first + second\n",
    "\n",
    "sum (1,2)\n",
    "|> printf \"regular function result: %d\""
   ]
  },
  {
   "cell_type": "markdown",
   "metadata": {},
   "source": [
    "That is a regular function with a tuple as argument and it only can applied with both values. "
   ]
  },
  {
   "cell_type": "markdown",
   "metadata": {},
   "source": [
    "#### Curried sum function\n",
    "$sum: int \\to int \\to int$ or $sum: int \\to (int \\to int)$"
   ]
  },
  {
   "cell_type": "code",
   "execution_count": null,
   "metadata": {},
   "outputs": [],
   "source": [
    "let sum first = //main function\n",
    "    let subFunction second = first + second\n",
    "    subFunction\n",
    "    \n",
    "let addOne = sum 1 // int -> int\n",
    "\n",
    "addOne 2\n",
    "|> printf \"curried sum result: %d\""
   ]
  },
  {
   "cell_type": "markdown",
   "metadata": {},
   "source": [
    "### What we did\n",
    "___\n",
    "to sum operation we created two functions, the main function, $ int \\to (int \\to int) $, has one int type argument called **first** and return  sub-function, that function, $ int \\to int $, has one int type argument called **second** and in your body has the arguments sum.  \n",
    "\n",
    "### How this works\n",
    "___\n",
    "The *main function* receive a value as parameter and \"**hold it**\" in your inner scope, this *main function* return a single parameter *sub-function* and sum *main function* parameter with your own parameter. That is only possible because the *sub-function* is inside *main function* inner scope, that way it can access all variables in main function inner scope, that is called [lexical closure][lexical-closure].  \n",
    "Basically when you create a function all your environment is stored too, it works look like a [lexical/static scope][lexical scope] if scope is a part of code [lexical/static scope][lexical scope] is a free or bounded variable scope, in another words, is the access edge of this variable. See an exple below:\n",
    "\n",
    "[lexical closure]: https://en.wikipedia.org/wiki/Closure_(computer_programming)\n",
    "[lexical scope]: https://en.wikipedia.org/wiki/Scope_(computer_science)#Lexical_scope_vs._dynamic_scope"
   ]
  },
  {
   "cell_type": "code",
   "execution_count": null,
   "metadata": {},
   "outputs": [],
   "source": [
    "let lexicalExample =\n",
    "    let a = 2 // <- lexical scope start \n",
    "    let multiply b = a * b\n",
    "    let a = 3 // <- lexical scope end\n",
    "    multiply 5\n",
    "lexicalExample"
   ]
  },
  {
   "cell_type": "markdown",
   "metadata": {},
   "source": [
    "The example above when variable **a** is created a [lexical/static scope][lexical scope] is created too and the function **multiply** is created inside that [lexical/static scope][lexical scope], because that the **multiply** function can use the **a** value. When **a** variable is recreated another [lexical/static scope][lexical scope] is create but this not change the **a** value used by **multiply** function, because this function was created inside last [lexical/static scope][lexical scope].\n",
    "\n",
    "<div style=\"font-family:Fira Code;border:1px solid #616161;padding:5px 15px;padding:5px 15px;\">\n",
    "    <span style=\"color:#4caf50;font-weight:bold\">let</span> lexicalExample =<br>  \n",
    "    <div>\n",
    "        <div style=\"border:#f44336 2px dashed;margin-bottom:4px;padding:5px 15px;display:inline-block\"> \n",
    "            &nbsp;&nbsp;&nbsp;&nbsp;<span style=\"color:#4caf50;font-weight:bold\">let</span> a = 2<br>\n",
    "            &nbsp;&nbsp;&nbsp;&nbsp;<span style=\"color:#4caf50;font-weight:bold\">let</span> multiply b = a * b \n",
    "        </div>\n",
    "        $\\to$ First lexical scope\n",
    "    <div>\n",
    "    <div>\n",
    "        <div style=\"border:#00bcd4 2px dashed;margin-bottom:4px;padding:5px 15px;display:inline-block\"> \n",
    "            &nbsp;&nbsp;&nbsp;&nbsp;<span style=\"color:#4caf50;font-weight:bold\">let</span> a = 3<br>\n",
    "            &nbsp;&nbsp;&nbsp;&nbsp;multiply 5\n",
    "        </div>\n",
    "        $\\to$ Second lexical scope\n",
    "    </div>\n",
    "    lexicalExample\n",
    "</div>\n",
    "\n",
    "[lexical scope]: https://en.wikipedia.org/wiki/Scope_(computer_science)#Lexical_scope_vs._dynamic_scope"
   ]
  },
  {
   "cell_type": "markdown",
   "metadata": {},
   "source": [
    "### Currying on FSharp\n",
    "___\n",
    "Use currying with **FSharp** is easy because all multi arguments functions is curried by default, so not is necessary create it manually. Look it below:\n"
   ]
  },
  {
   "cell_type": "code",
   "execution_count": null,
   "metadata": {},
   "outputs": [],
   "source": [
    "let sum first second = first + second\n",
    "\n",
    "let addOne = sum 1 // int -> int\n",
    "\n",
    "addOne 2\n",
    "|> printf \"implicit curried sum result: %d\""
   ]
  },
  {
   "cell_type": "markdown",
   "metadata": {},
   "source": [
    "The result is the same than first function and we can simplify this further. Look it:"
   ]
  },
  {
   "cell_type": "code",
   "execution_count": null,
   "metadata": {},
   "outputs": [],
   "source": [
    "let addOne = (+) 1 // int -> int\n",
    "\n",
    "addOne 2\n",
    "|> printf \"simplify curried sum result: %d\""
   ]
  },
  {
   "cell_type": "markdown",
   "metadata": {},
   "source": [
    "The sum operator is a [infix notation][infix] and a multi argument too so is by default curried.  \n",
    "$(+): int \\to int \\to int$ \n",
    "\n",
    "[infix]:https://en.wikipedia.org/wiki/Infix_notation"
   ]
  },
  {
   "cell_type": "markdown",
   "metadata": {},
   "source": [
    "## The use of currying  \n",
    "\n",
    "With currying we are able to partial apply a function, in others words we fix the first of N arguments of a function and reuse the resulted function. That techique possibility us to share a behavior without create a new function and with lightweight sintax. A good exemples of curried function is `Seq.reduce` and `|>`, look it below:\n",
    "\n"
   ]
  },
  {
   "cell_type": "code",
   "execution_count": null,
   "metadata": {},
   "outputs": [],
   "source": [
    "[1;2;3;4]\n",
    "|> Seq.reduce (+)\n",
    "|> printf \"sum of all list itens: %d\"\n",
    "    "
   ]
  },
  {
   "cell_type": "markdown",
   "metadata": {},
   "source": [
    "### Explaining the expression\n",
    "First we need undestanding what is the operator `|>` or [forward pipe operator][pipe operator]. Basically the [forward pipe operator][pipe operator] is a [infix notation][infix] where the operator apply left value to rigth function.  \n",
    "$ f: a \\to (a \\to b) \\to b $\n",
    "\n",
    "```f#\n",
    "let (|>) a b = b a\n",
    "```\n",
    "Now let see the `Seq.reduce` have two arguments, first $ (int \\to int \\to int) $ and last $ seq<int> $. If you are a good observer see this signature $ int \\to int \\to int $ is the same signutare than `(+)` operator, so we partial apply `(+)` operator to `Seq.reduce` and after apply `[1;2;3;4]` to `Seq.reduce (+)`.  \n",
    "\n",
    "The same expression can be write with a different way look it below:\n",
    "\n",
    "[pipe operator]:https://docs.microsoft.com/pt-br/dotnet/fsharp/language-reference/symbol-and-operator-reference/\n",
    "[infix]:https://en.wikipedia.org/wiki/Infix_notation"
   ]
  },
  {
   "cell_type": "code",
   "execution_count": null,
   "metadata": {},
   "outputs": [],
   "source": [
    "let sumAll = Seq.reduce (+) // seq<int> -> int\n",
    "\n",
    "sumAll [1;2;3;4]\n",
    "|> printf \"sum of all of integer list : %d\""
   ]
  },
  {
   "cell_type": "markdown",
   "metadata": {},
   "source": [
    "This is the same of last expression but  creating a new function $ sumAll: seq<int> \\to int $ partially applying `(+)` to `Seq.reduce`. That way we can share the behavior of sum all itens of a list with a lightweight sintax using currying."
   ]
  },
  {
   "cell_type": "markdown",
   "metadata": {},
   "source": [
    "## Conclusion\n",
    "The currying is a great technique to share behavior, basically transform a [n-tuple][n-tuple] argument function to a chain of functions with one argument and that is easiest with F# because all mult arguments function is curried by default.\n",
    "\n",
    "[n-tuple]:https://en.wikipedia.org/wiki/Tuple"
   ]
  },
  {
   "cell_type": "markdown",
   "metadata": {},
   "source": [
    "### References\n",
    "* [Currying wikipedia](https://pt.wikipedia.org/wiki/Currying)\n",
    "* [Partial application vs. Curriyng](http://www.codefugue.com/partial-application-vs-currying/)\n",
    "* [Funtional Programming: Currying vs. Partial application](https://medium.com/better-programming/functional-programming-currying-vs-partial-application-53b8b05c73e3#:~:text=Currying%3A%20A%20function%20returning%20another,function%20can%20take%20several%20parameters.)\n",
    "* [Curried functions](https://docs.microsoft.com/dotnet/fsharp/introduction-to-functional-programming/first-class-functions#curried-functions)\n",
    "* [Partial application](https://fsharpforfunandprofit.com/posts/partial-application/)\n",
    "* [Currying](https://fsharpforfunandprofit.com/posts/currying/)\n",
    "* [What are the practical advantages of currying?](https://stackoverflow.com/questions/5301181/what-are-the-practical-advantages-of-currying)\n",
    "* [Currying Haskell doc.](https://wiki.haskell.org/Currying)\n",
    "* [A real world Currying example](https://lukajcb.github.io/blog/scala/2016/03/08/a-real-world-currying-example.html#:~:text=It%20allows%20us%20to%20easily,like%20map%20%2C%20filter%20or%20reduce%20.)\n",
    "* [Partial application wikipedia](https://en.wikipedia.org/wiki/Partial_application)\n",
    "* [mathematical symbols](https://en.wikipedia.org/wiki/List_of_mathematical_symbols)\n",
    "* [domain range codomain](https://sookocheff.com/post/fp/domain-range-codomain/)"
   ]
  }
 ],
 "metadata": {
  "kernelspec": {
   "display_name": ".NET (F#)",
   "language": "F#",
   "name": ".net-fsharp"
  },
  "language_info": {
   "file_extension": ".fs",
   "mimetype": "text/x-fsharp",
   "name": "C#",
   "pygments_lexer": "fsharp",
   "version": "4.5"
  }
 },
 "nbformat": 4,
 "nbformat_minor": 4
}
